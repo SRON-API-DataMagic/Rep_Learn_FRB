{
 "cells": [
  {
   "cell_type": "code",
   "execution_count": 22,
   "metadata": {},
   "outputs": [
    {
     "name": "stdout",
     "output_type": "stream",
     "text": [
      "The autoreload extension is already loaded. To reload it, use:\n",
      "  %reload_ext autoreload\n"
     ]
    }
   ],
   "source": [
    "import io\n",
    "import sys\n",
    "import pandas as pd\n",
    "import numpy as np\n",
    "from Pipeline import DPA\n",
    "import time\n",
    "import os\n",
    "sys.path.append('../')\n",
    "from simulate_frbs import *\n",
    "\n",
    "%load_ext autoreload\n",
    "%autoreload 2"
   ]
  },
  {
   "cell_type": "markdown",
   "metadata": {},
   "source": [
    "## DPA on dynamic spectra"
   ]
  },
  {
   "cell_type": "code",
   "execution_count": 40,
   "metadata": {},
   "outputs": [],
   "source": [
    "directories = [\n",
    "    \"simulated_simple_broad_bursts_v4\",\n",
    "    \"simulated_simple_narrow_bursts_v4\",\n",
    "    \"simulated_scattered_bursts_v4\",\n",
    "    \"simulated_complex_bursts_v4\",\n",
    "    \"simulated_drifting_bursts_v4\"\n",
    "]\n",
    "\n",
    "data = []\n",
    "\n",
    "for directory in directories:\n",
    "    data_dir = f\"/Users/dirkkuiper/Documents/MacBookProDocuments/University/Thesis/Rep_Learn_FRB/{directory}\"\n",
    "    data_per_directory = []\n",
    "\n",
    "    for filename in os.listdir(data_dir):\n",
    "        if filename.endswith(\".npy\"):\n",
    "            data_per_directory.append(normalize((np.load(os.path.join(data_dir, filename)))))\n",
    "\n",
    "    data_per_directory = np.array(data_per_directory).reshape(-1, 1024 * 512)[:100]\n",
    "    data.append(data_per_directory)\n",
    "\n",
    "# Combine the data from all directories into one array\n",
    "combined_data = np.concatenate(data, axis=0)\n",
    "\n",
    "# Reshape the combined data for DPA\n",
    "combined_data_2d = combined_data.reshape(-1, 1024 * 512)"
   ]
  },
  {
   "cell_type": "code",
   "execution_count": 41,
   "metadata": {},
   "outputs": [],
   "source": [
    "est = DPA.DensityPeakAdvanced(Z=0.5)"
   ]
  },
  {
   "cell_type": "code",
   "execution_count": 42,
   "metadata": {},
   "outputs": [
    {
     "data": {
      "text/plain": [
       "DensityPeakAdvanced(Z=0.5)"
      ]
     },
     "execution_count": 42,
     "metadata": {},
     "output_type": "execute_result"
    }
   ],
   "source": [
    "est.fit(combined_data_2d)"
   ]
  },
  {
   "cell_type": "code",
   "execution_count": 43,
   "metadata": {},
   "outputs": [
    {
     "data": {
      "text/plain": [
       "[[0, 1, 27.542625404485023, 0.5433581647846062],\n",
       " [0, 2, 24.726865591432045, 0.6831300510639732],\n",
       " [0, 3, 18.717109466471854, 1.5275252316519468],\n",
       " [1, 2, 0.0, 0.0],\n",
       " [1, 3, 18.664290929838444, 0.5883484054145521],\n",
       " [2, 3, 0.0, 0.0]]"
      ]
     },
     "execution_count": 43,
     "metadata": {},
     "output_type": "execute_result"
    }
   ],
   "source": [
    "est.topography_"
   ]
  },
  {
   "cell_type": "code",
   "execution_count": 44,
   "metadata": {},
   "outputs": [
    {
     "data": {
      "image/png": "[encoded data removed]",
      "text/plain": [
       "<Figure size 640x480 with 1 Axes>"
      ]
     },
     "metadata": {},
     "output_type": "display_data"
    }
   ],
   "source": [
    "est.get_dendrogram()"
   ]
  },
  {
   "cell_type": "code",
   "execution_count": 54,
   "metadata": {},
   "outputs": [
    {
     "data": {
      "text/plain": [
       "array([3, 0, 3, 1, 1, 1, 1, 3, 3, 1, 1, 1, 3, 3, 1, 1, 1, 1, 3, 3, 3, 1,\n",
       "       3, 3, 3, 1, 3, 1, 0, 1, 3, 3, 1, 1, 3, 1, 1, 0, 3, 1, 0, 3, 1, 0,\n",
       "       1, 1, 0, 1, 1, 1, 1, 1, 1, 3, 1, 3, 1, 1, 0, 3, 1, 3, 0, 1, 0, 0,\n",
       "       0, 3, 3, 3, 1, 3, 3, 1, 1, 0, 3, 1, 3, 1, 3, 1, 1, 1, 1, 3, 1, 3,\n",
       "       3, 1, 1, 3, 1, 1, 0, 1, 1, 1, 1, 1, 0, 0, 1, 0, 0, 3, 1, 1, 0, 1,\n",
       "       1, 3, 0, 0, 3, 1, 3, 0, 1, 1, 3, 0, 1, 3, 3, 1, 1, 1, 1, 0, 0, 3,\n",
       "       0, 0, 1, 1, 3, 0, 1, 0, 0, 1, 3, 1, 0, 0, 0, 3, 1, 0, 1, 3, 0, 3,\n",
       "       1, 1, 3, 3, 0, 3, 3, 1, 1, 1, 0, 1, 1, 1, 0, 3, 0, 3, 1, 1, 3, 1,\n",
       "       0, 1, 1, 1, 1, 0, 0, 0, 0, 3, 0, 0, 3, 1, 3, 1, 3, 0, 3, 0, 1, 1,\n",
       "       0, 3, 0, 2, 0, 3, 0, 2, 2, 3, 3, 3, 3, 0, 3, 0, 0, 0, 0, 3, 3, 0,\n",
       "       3, 0, 0, 3, 3, 3, 0, 0, 2, 0, 3, 3, 2, 0, 0, 0, 0, 0, 0, 0, 0, 0,\n",
       "       2, 3, 3, 0, 0, 0, 0, 3, 3, 0, 0, 0, 0, 3, 0, 2, 0, 0, 0, 0, 0, 0,\n",
       "       0, 2, 0, 0, 0, 2, 0, 3, 2, 0, 3, 2, 2, 2, 3, 0, 0, 1, 0, 0, 3, 0,\n",
       "       0, 0, 0, 0, 3, 3, 3, 0, 3, 0, 2, 0, 0, 3, 1, 3, 3, 3, 0, 3, 3, 0,\n",
       "       1, 1, 1, 1, 3, 1, 0, 3, 1, 1, 1, 2, 1, 3, 3, 3, 3, 1, 3, 0, 1, 3,\n",
       "       2, 3, 3, 1, 3, 3, 3, 1, 0, 3, 0, 3, 1, 1, 0, 0, 0, 1, 1, 3, 3, 1,\n",
       "       3, 0, 3, 3, 3, 1, 3, 0, 0, 3, 1, 3, 3, 3, 1, 1, 0, 1, 0, 3, 0, 1,\n",
       "       1, 1, 3, 3, 1, 3, 3, 1, 3, 3, 1, 0, 3, 3, 0, 3, 1, 1, 3, 3, 0, 0,\n",
       "       3, 0, 3, 3, 3, 0, 3, 0, 0, 1, 0, 0, 0, 3, 1, 3, 3, 3, 1, 0, 0, 1,\n",
       "       0, 3, 0, 0, 1, 3, 3, 3, 1, 3, 3, 1, 0, 1, 3, 3, 3, 3, 3, 3, 0, 3,\n",
       "       0, 0, 1, 0, 1, 3, 0, 3, 1, 3, 0, 1, 0, 0, 0, 0, 1, 3, 1, 3, 3, 2,\n",
       "       1, 1, 3, 3, 3, 0, 0, 3, 3, 0, 0, 0, 1, 3, 3, 0, 0, 3, 0, 3, 0, 3,\n",
       "       1, 1, 0, 3, 0, 3, 3, 3, 0, 3, 3, 1, 3, 0, 0, 0], dtype=int32)"
      ]
     },
     "execution_count": 54,
     "metadata": {},
     "output_type": "execute_result"
    }
   ],
   "source": [
    "est.labels_"
   ]
  },
  {
   "cell_type": "code",
   "execution_count": 56,
   "metadata": {},
   "outputs": [
    {
     "name": "stdout",
     "output_type": "stream",
     "text": [
      "Cluster 0: 30 broad, 40 complex, 32 scattered, 32 narrow, 28 drifting\n",
      "Cluster 1: 28 complex, 28 drifting, 30 narrow, 28 broad, 31 scattered\n",
      "Cluster 2: 5 broad, 4 narrow, 1 complex, 5 scattered, 2 drifting\n",
      "Cluster 3: 34 narrow, 32 scattered, 31 complex, 42 drifting, 37 broad\n"
     ]
    }
   ],
   "source": [
    "from collections import Counter\n",
    "\n",
    "cluster_labels = est.labels_\n",
    "\n",
    "# Assuming you have a mapping of cluster labels to FRB types\n",
    "# Replace this with your actual mapping\n",
    "frb_types_mapping = {\n",
    "    0: \"narrow\",\n",
    "    1: \"broad\",\n",
    "    2: \"scattered\",\n",
    "    3: \"complex\",\n",
    "    4: \"drifting\"\n",
    "}\n",
    "\n",
    "# Combine the cluster labels and FRB types into a list of tuples\n",
    "combined_info = list(zip(cluster_labels, [frb_types_mapping[i % len(frb_types_mapping)] for i in range(len(cluster_labels))]))\n",
    "\n",
    "# Count the occurrences of each FRB type within each cluster\n",
    "cluster_frb_counts = {cluster: Counter(frb_type for cluster_label, frb_type in combined_info if cluster_label == cluster)\n",
    "                      for cluster in set(cluster_labels)}\n",
    "\n",
    "# Print the results\n",
    "for cluster, frb_counts in cluster_frb_counts.items():\n",
    "    print(f\"Cluster {cluster}: {', '.join(f'{count} {frb_type}' for frb_type, count in frb_counts.items())}\")\n"
   ]
  },
  {
   "cell_type": "markdown",
   "metadata": {},
   "source": [
    "## DPA on lightcurves"
   ]
  },
  {
   "cell_type": "code",
   "execution_count": 33,
   "metadata": {},
   "outputs": [
    {
     "name": "stdout",
     "output_type": "stream",
     "text": [
      "1.0\n",
      "1.0\n",
      "1.0\n",
      "1.0\n",
      "1.0\n",
      "(500, 1024)\n"
     ]
    }
   ],
   "source": [
    "directories = [\n",
    "    \"simulated_simple_broad_bursts_v4\",\n",
    "    \"simulated_simple_narrow_bursts_v4\",\n",
    "    \"simulated_scattered_bursts_v4\",\n",
    "    \"simulated_complex_bursts_v4\",\n",
    "    \"simulated_drifting_bursts_v4\"\n",
    "]\n",
    "\n",
    "data = []\n",
    "\n",
    "for directory in directories:\n",
    "    data_dir = f\"/Users/dirkkuiper/Documents/MacBookProDocuments/University/Thesis/Rep_Learn_FRB/{directory}\"\n",
    "    data_per_directory = []\n",
    "\n",
    "    for filename in os.listdir(data_dir):\n",
    "        if filename.endswith(\".npy\"):\n",
    "            dynamic_spectra = (np.load(os.path.join(data_dir, filename)))\n",
    "            data_per_directory.append(normalize(np.sum(dynamic_spectra, axis=1)))\n",
    "\n",
    "    data_per_directory = np.array(data_per_directory).reshape(-1, 1024)[:100]\n",
    "    print(np.max(data_per_directory))\n",
    "    data.append(data_per_directory)\n",
    "\n",
    "# Combine the data from all directories into one array\n",
    "combined_data = np.concatenate(data, axis=0)\n",
    "\n",
    "# Reshape the combined data for PCA\n",
    "combined_data_2d = combined_data.reshape(-1, 1024)\n",
    "\n",
    "print(combined_data_2d.shape)"
   ]
  },
  {
   "cell_type": "code",
   "execution_count": 37,
   "metadata": {},
   "outputs": [
    {
     "data": {
      "text/plain": [
       "DensityPeakAdvanced(Z=0.5)"
      ]
     },
     "execution_count": 37,
     "metadata": {},
     "output_type": "execute_result"
    }
   ],
   "source": [
    "est = DPA.DensityPeakAdvanced(Z=0.5)\n",
    "est.fit(combined_data_2d)"
   ]
  },
  {
   "cell_type": "code",
   "execution_count": 38,
   "metadata": {},
   "outputs": [
    {
     "data": {
      "text/plain": [
       "[[0, 1, 7.142156917907826, 0.30318178032195786],\n",
       " [0, 2, 9.024764229168056, 0.2901442287369986],\n",
       " [1, 2, 0.0, 0.0]]"
      ]
     },
     "execution_count": 38,
     "metadata": {},
     "output_type": "execute_result"
    }
   ],
   "source": [
    "est.topography_"
   ]
  },
  {
   "cell_type": "code",
   "execution_count": 39,
   "metadata": {},
   "outputs": [
    {
     "data": {
      "image/png": "[encoded data removed]",
      "text/plain": [
       "<Figure size 640x480 with 1 Axes>"
      ]
     },
     "metadata": {},
     "output_type": "display_data"
    }
   ],
   "source": [
    "est.get_dendrogram()"
   ]
  },
  {
   "cell_type": "code",
   "execution_count": null,
   "metadata": {},
   "outputs": [],
   "source": []
  }
 ],
 "metadata": {
  "interpreter": {
   "hash": "5b432b7cf0432bae941e6f9fb533f5d1482e5a8c39435380a1e38abdfbd445fb"
  },
  "kernelspec": {
   "display_name": "Python 3.9.13 ('base')",
   "language": "python",
   "name": "python3"
  },
  "language_info": {
   "codemirror_mode": {
    "name": "ipython",
    "version": 3
   },
   "file_extension": ".py",
   "mimetype": "text/x-python",
   "name": "python",
   "nbconvert_exporter": "python",
   "pygments_lexer": "ipython3",
   "version": "3.9.13"
  },
  "orig_nbformat": 4
 },
 "nbformat": 4,
 "nbformat_minor": 2
}
