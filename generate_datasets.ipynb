{
 "cells": [
  {
   "cell_type": "code",
   "execution_count": 2,
   "metadata": {},
   "outputs": [],
   "source": [
    "import os\n",
    "import numpy as np\n",
    "import matplotlib.pyplot as plt\n",
    "from simulate_frbs import *"
   ]
  },
  {
   "cell_type": "markdown",
   "metadata": {},
   "source": [
    "## Generate simple bursts"
   ]
  },
  {
   "cell_type": "code",
   "execution_count": 6,
   "metadata": {},
   "outputs": [],
   "source": [
    "def generate_burst_dataset(\n",
    "    save_dir,\n",
    "    num_pulses,\n",
    "    num_time_samples,\n",
    "    exponent,\n",
    "    filterbank_file,\n",
    "    time_sigma_mean,\n",
    "    time_sigma_std,\n",
    "    freq_sigma_mean,\n",
    "    freq_sigma_std\n",
    "    ):\n",
    "    \"\"\"\n",
    "    Generate a dataset of simulated bursts and save them as numpy arrays.\n",
    "\n",
    "    Parameters:\n",
    "        save_dir (str): The directory to save the numpy arrays.\n",
    "        num_pulses (int): The number of bursts to generate.\n",
    "        num_time_samples (int): The number of time samples in the filterbank file.\n",
    "        exponent (float): The exponent for the power-law distribution used to scale SNR.\n",
    "        filterbank_file (str): The path to the filterbank file to extract parameters from.\n",
    "        time_sigma_mean (float): The mean value for pulse width in time.\n",
    "        time_sigma_std (float): The standard deviation for pulse width in time.\n",
    "        freq_sigma_mean (float): The mean value for frequency width.\n",
    "        freq_sigma_std (float): The standard deviation for frequency width.\n",
    "\n",
    "    Returns:\n",
    "        None\n",
    "    \"\"\"\n",
    "\n",
    "    # Load filterbank file to get relevant parameters\n",
    "    dynamic_spectra, yr_obj = get_dynamic_spectra_from_filterbank(filterbank_file, num_time_samples=num_time_samples)\n",
    "\n",
    "    # Create the directory if it doesn't exist\n",
    "    os.makedirs(save_dir, exist_ok=True)\n",
    "\n",
    "    snrs = []\n",
    "\n",
    "    for i in range(num_pulses):\n",
    "        # Draw random values for signal width and temporal width from Gaussian distributions\n",
    "        sigma_time = np.random.normal(time_sigma_mean, time_sigma_std)\n",
    "        sigma_freq = np.random.normal(freq_sigma_mean, freq_sigma_std)\n",
    "\n",
    "        # Create the pulse object with the specified parameters\n",
    "        pulse_obj = create.SimpleGaussPulse(\n",
    "            sigma_time=sigma_time,\n",
    "            sigma_freq=sigma_freq,\n",
    "            center_freq=yr_obj.your_header.center_freq,\n",
    "            dm=0,\n",
    "            tau=0,\n",
    "            phi=np.pi / 3,\n",
    "            spectral_index_alpha=0,\n",
    "            chan_freqs=yr_obj.chan_freqs,\n",
    "            tsamp=yr_obj.your_header.tsamp,\n",
    "            nscint=0,\n",
    "            bandpass=None,\n",
    "        )\n",
    "\n",
    "        # Scale the SNR of the pulse according to a power-law distribution\n",
    "        scaling_factor = get_scaling_factor(min_value=0.0002, max_value=0.003, exponent=exponent)\n",
    "\n",
    "        # Generate the pulse signal with the specified parameters\n",
    "        pulse = pulse_obj.sample_pulse(nsamp=int(3e5), dtype=np.float32)\n",
    "\n",
    "        pulse = pulse * scaling_factor\n",
    "\n",
    "        # Inject the pulse into the dynamic spectra\n",
    "        dynamic_spectra_w_pulse = inject_pulse_into_dynamic_spectrum(dynamic_spectra, pulse)\n",
    "\n",
    "        # Define a filename for the numpy array\n",
    "        filename = os.path.join(\n",
    "            save_dir, f\"frb_{i}_{sigma_time}_{sigma_freq}.npy\")\n",
    "\n",
    "        # Save the dynamic spectra as a numpy array\n",
    "        np.save(filename, dynamic_spectra_w_pulse)"
   ]
  },
  {
   "cell_type": "code",
   "execution_count": 30,
   "metadata": {},
   "outputs": [],
   "source": [
    "# Define parameters for generating the dataset\n",
    "save_dir = \"simulated_bursts\"\n",
    "num_pulses = 1000\n",
    "exponent = -1.5\n",
    "filterbank_file = \"output_with_noise__2.fil\"\n",
    "time_sigma_mean = 0.015/8\n",
    "time_sigma_std = 0.0001\n",
    "freq_sigma_mean = 100/8\n",
    "freq_sigma_std = 1\n",
    "\n",
    "# Call the function to generate the dataset\n",
    "generate_burst_dataset(\n",
    "    save_dir=save_dir,\n",
    "    num_pulses=num_pulses,\n",
    "    num_time_samples=1024,\n",
    "    exponent=exponent,\n",
    "    filterbank_file=filterbank_file,\n",
    "    time_sigma_mean=time_sigma_mean,\n",
    "    time_sigma_std=time_sigma_std,\n",
    "    freq_sigma_mean=freq_sigma_mean,\n",
    "    freq_sigma_std=freq_sigma_std\n",
    ")"
   ]
  },
  {
   "cell_type": "code",
   "execution_count": null,
   "metadata": {},
   "outputs": [],
   "source": []
  }
 ],
 "metadata": {
  "interpreter": {
   "hash": "5b432b7cf0432bae941e6f9fb533f5d1482e5a8c39435380a1e38abdfbd445fb"
  },
  "kernelspec": {
   "display_name": "Python 3.9.13 ('base')",
   "language": "python",
   "name": "python3"
  },
  "language_info": {
   "codemirror_mode": {
    "name": "ipython",
    "version": 3
   },
   "file_extension": ".py",
   "mimetype": "text/x-python",
   "name": "python",
   "nbconvert_exporter": "python",
   "pygments_lexer": "ipython3",
   "version": "3.9.13"
  },
  "orig_nbformat": 4
 },
 "nbformat": 4,
 "nbformat_minor": 2
}
