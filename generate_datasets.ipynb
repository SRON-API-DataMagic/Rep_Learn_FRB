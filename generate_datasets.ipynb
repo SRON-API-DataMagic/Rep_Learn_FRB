{
 "cells": [
  {
   "cell_type": "code",
   "execution_count": 1,
   "metadata": {},
   "outputs": [],
   "source": [
    "import os\n",
    "import numpy as np\n",
    "import matplotlib.pyplot as plt\n",
    "from simulate_frbs import *\n",
    "from generate_datasets import *"
   ]
  },
  {
   "cell_type": "markdown",
   "metadata": {},
   "source": [
    "## Generate simple bursts"
   ]
  },
  {
   "cell_type": "code",
   "execution_count": 2,
   "metadata": {},
   "outputs": [],
   "source": [
    "# Define parameters for generating the dataset\n",
    "save_dir = \"simulated_simple_bursts\"\n",
    "num_pulses = 1000\n",
    "exponent = -1.5\n",
    "filterbank_file = \"output_with_noise__2.fil\"\n",
    "time_sigma_mean = 0.015/8\n",
    "time_sigma_std = 0.0001\n",
    "freq_sigma_mean = 100/8\n",
    "freq_sigma_std = 1\n",
    "\n",
    "# Call the function to generate the dataset\n",
    "generate_simple_burst_dataset(\n",
    "    save_dir=save_dir,\n",
    "    num_pulses=num_pulses,\n",
    "    num_time_samples=1024,\n",
    "    exponent=exponent,\n",
    "    filterbank_file=filterbank_file,\n",
    "    time_sigma_mean=time_sigma_mean,\n",
    "    time_sigma_std=time_sigma_std,\n",
    "    freq_sigma_mean=freq_sigma_mean,\n",
    "    freq_sigma_std=freq_sigma_std\n",
    ")"
   ]
  },
  {
   "cell_type": "markdown",
   "metadata": {},
   "source": [
    "## Simulate scattered bursts"
   ]
  },
  {
   "cell_type": "code",
   "execution_count": 64,
   "metadata": {},
   "outputs": [],
   "source": [
    "# Define parameters for generating the dataset\n",
    "save_dir = \"simulated_scattered_bursts\"\n",
    "num_pulses = 1000\n",
    "exponent = -1.5\n",
    "filterbank_file = \"output_with_noise__2.fil\"\n",
    "time_sigma_mean = 0.015/8\n",
    "time_sigma_std = 0.0001\n",
    "freq_sigma_mean = 100/8\n",
    "freq_sigma_std = 1\n",
    "\n",
    "# Call the function to generate the dataset\n",
    "generate_scattered_burst_dataset(\n",
    "    save_dir=save_dir,\n",
    "    num_pulses=num_pulses,\n",
    "    num_time_samples=1024,\n",
    "    exponent=exponent,\n",
    "    filterbank_file=filterbank_file,\n",
    "    time_sigma_mean=time_sigma_mean,\n",
    "    time_sigma_std=time_sigma_std,\n",
    "    freq_sigma_mean=freq_sigma_mean,\n",
    "    freq_sigma_std=freq_sigma_std,\n",
    "    tau_mean = 1)"
   ]
  },
  {
   "cell_type": "markdown",
   "metadata": {},
   "source": [
    "## Generate complex bursts"
   ]
  },
  {
   "cell_type": "code",
   "execution_count": null,
   "metadata": {},
   "outputs": [],
   "source": []
  }
 ],
 "metadata": {
  "interpreter": {
   "hash": "5b432b7cf0432bae941e6f9fb533f5d1482e5a8c39435380a1e38abdfbd445fb"
  },
  "kernelspec": {
   "display_name": "Python 3.9.13 ('base')",
   "language": "python",
   "name": "python3"
  },
  "language_info": {
   "codemirror_mode": {
    "name": "ipython",
    "version": 3
   },
   "file_extension": ".py",
   "mimetype": "text/x-python",
   "name": "python",
   "nbconvert_exporter": "python",
   "pygments_lexer": "ipython3",
   "version": "3.9.13"
  },
  "orig_nbformat": 4
 },
 "nbformat": 4,
 "nbformat_minor": 2
}
